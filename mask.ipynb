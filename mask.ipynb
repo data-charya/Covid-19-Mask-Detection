{
 "cells": [
  {
   "cell_type": "markdown",
   "metadata": {},
   "source": [
    "<p style = \"color:#0097FF;font-size:40px;font-weight:700;text-align:center;font-family: Arial, Helvetica, sans-serif\">Mask Detection</p>"
   ]
  },
  {
   "cell_type": "markdown",
   "metadata": {},
   "source": [
    "### Shanwill pinto"
   ]
  },
  {
   "cell_type": "markdown",
   "metadata": {},
   "source": [
    "<hr style = \"border-color:#006CF7;background-color:#006CF7;border-radius:50px;height:7px\">"
   ]
  },
  {
   "cell_type": "markdown",
   "metadata": {},
   "source": [
    "# Let's import some libraries"
   ]
  },
  {
   "cell_type": "code",
   "execution_count": 1,
   "metadata": {
    "colab": {},
    "colab_type": "code",
    "id": "QF0FdutSr1sC"
   },
   "outputs": [],
   "source": [
    "import tensorflow as tf\n",
    "import numpy as np\n",
    "import matplotlib.pyplot as plt\n",
    "import PIL"
   ]
  },
  {
   "cell_type": "code",
   "execution_count": 2,
   "metadata": {
    "colab": {
     "base_uri": "https://localhost:8080/",
     "height": 34
    },
    "colab_type": "code",
    "id": "ZcNUTBe-r3DL",
    "outputId": "e0e9fdbb-129b-4ae9-9e7f-898853cc5c95"
   },
   "outputs": [
    {
     "name": "stderr",
     "output_type": "stream",
     "text": [
      "Using TensorFlow backend.\n"
     ]
    }
   ],
   "source": [
    "from keras.models import Sequential\n",
    "from keras.layers import Conv2D, MaxPooling2D, Flatten, Dense, Dropout"
   ]
  },
  {
   "cell_type": "markdown",
   "metadata": {},
   "source": [
    "<p style = \"color:#D35400;font-size:40px;font-weight:700;text-align:center;font-family: Arial, Helvetica, sans-serif\">Here's the fun part</p>"
   ]
  },
  {
   "cell_type": "markdown",
   "metadata": {},
   "source": [
    "# Lets define our model and compile it"
   ]
  },
  {
   "cell_type": "code",
   "execution_count": 3,
   "metadata": {
    "colab": {},
    "colab_type": "code",
    "id": "l39-K27Ar9PF"
   },
   "outputs": [],
   "source": [
    "model = Sequential([\n",
    "    Conv2D(128,(3,3), input_shape = (128,128,3), activation = 'relu'),\n",
    "    Conv2D(64,(3,3), activation = 'relu'),\n",
    "    Conv2D(64,(3,3), activation = 'relu'),\n",
    "    MaxPooling2D(pool_size=(2, 2),strides=(1, 1), padding='same'),\n",
    "    Conv2D(64,(3,3), activation = 'relu'),\n",
    "    Conv2D(64,(3,3), activation = 'relu'),\n",
    "    MaxPooling2D(pool_size=(2, 2),strides=(1, 1), padding='same'),\n",
    "    Conv2D(32,(3,3), activation = 'relu'),\n",
    "    Conv2D(32,(3,3), activation = 'relu'),\n",
    "    MaxPooling2D(pool_size=(2, 2),strides=(1, 1), padding='same'),\n",
    "    Flatten(),\n",
    "    Dense(units=64, activation='relu'),\n",
    "    Dropout(0.1),\n",
    "    Dense(units=32, activation='relu'),\n",
    "    Dropout(0.1),\n",
    "    Dense(units=1, activation='sigmoid')\n",
    "])"
   ]
  },
  {
   "cell_type": "code",
   "execution_count": 4,
   "metadata": {
    "colab": {},
    "colab_type": "code",
    "id": "sADJprLnsA53"
   },
   "outputs": [],
   "source": [
    "model.compile(optimizer = 'adam', loss = 'binary_crossentropy', metrics = ['accuracy'])"
   ]
  },
  {
   "cell_type": "code",
   "execution_count": 5,
   "metadata": {
    "colab": {
     "base_uri": "https://localhost:8080/",
     "height": 697
    },
    "colab_type": "code",
    "id": "Z-_FmJ-1sBD1",
    "outputId": "821cf609-73bc-4614-9b98-d824b4eb2741"
   },
   "outputs": [
    {
     "name": "stdout",
     "output_type": "stream",
     "text": [
      "Model: \"sequential_1\"\n",
      "_________________________________________________________________\n",
      "Layer (type)                 Output Shape              Param #   \n",
      "=================================================================\n",
      "conv2d_1 (Conv2D)            (None, 126, 126, 128)     3584      \n",
      "_________________________________________________________________\n",
      "conv2d_2 (Conv2D)            (None, 124, 124, 64)      73792     \n",
      "_________________________________________________________________\n",
      "conv2d_3 (Conv2D)            (None, 122, 122, 64)      36928     \n",
      "_________________________________________________________________\n",
      "max_pooling2d_1 (MaxPooling2 (None, 122, 122, 64)      0         \n",
      "_________________________________________________________________\n",
      "conv2d_4 (Conv2D)            (None, 120, 120, 64)      36928     \n",
      "_________________________________________________________________\n",
      "conv2d_5 (Conv2D)            (None, 118, 118, 64)      36928     \n",
      "_________________________________________________________________\n",
      "max_pooling2d_2 (MaxPooling2 (None, 118, 118, 64)      0         \n",
      "_________________________________________________________________\n",
      "conv2d_6 (Conv2D)            (None, 116, 116, 32)      18464     \n",
      "_________________________________________________________________\n",
      "conv2d_7 (Conv2D)            (None, 114, 114, 32)      9248      \n",
      "_________________________________________________________________\n",
      "max_pooling2d_3 (MaxPooling2 (None, 114, 114, 32)      0         \n",
      "_________________________________________________________________\n",
      "flatten_1 (Flatten)          (None, 415872)            0         \n",
      "_________________________________________________________________\n",
      "dense_1 (Dense)              (None, 64)                26615872  \n",
      "_________________________________________________________________\n",
      "dropout_1 (Dropout)          (None, 64)                0         \n",
      "_________________________________________________________________\n",
      "dense_2 (Dense)              (None, 32)                2080      \n",
      "_________________________________________________________________\n",
      "dropout_2 (Dropout)          (None, 32)                0         \n",
      "_________________________________________________________________\n",
      "dense_3 (Dense)              (None, 1)                 33        \n",
      "=================================================================\n",
      "Total params: 26,833,857\n",
      "Trainable params: 26,833,857\n",
      "Non-trainable params: 0\n",
      "_________________________________________________________________\n"
     ]
    }
   ],
   "source": [
    "model.summary()"
   ]
  },
  {
   "cell_type": "markdown",
   "metadata": {},
   "source": [
    "# All set, lets get our images ready for training!"
   ]
  },
  {
   "cell_type": "code",
   "execution_count": 23,
   "metadata": {
    "colab": {},
    "colab_type": "code",
    "id": "E6v2XX-nsBG0"
   },
   "outputs": [],
   "source": [
    "from keras.preprocessing.image import ImageDataGenerator"
   ]
  },
  {
   "cell_type": "code",
   "execution_count": 24,
   "metadata": {
    "colab": {},
    "colab_type": "code",
    "id": "VCzyjBnNsOKI"
   },
   "outputs": [],
   "source": [
    "train_data_gen = ImageDataGenerator(rescale=1./255, shear_range=0.2, zoom_range=0.2, horizontal_flip=True,vertical_flip=True)\n",
    "test_data_gen = ImageDataGenerator(rescale=1./255)"
   ]
  },
  {
   "cell_type": "code",
   "execution_count": 25,
   "metadata": {
    "colab": {
     "base_uri": "https://localhost:8080/",
     "height": 34
    },
    "colab_type": "code",
    "id": "8m-cMtO_sVfY",
    "outputId": "6810fe87-0541-43c2-828a-8d71dda1c387"
   },
   "outputs": [
    {
     "name": "stdout",
     "output_type": "stream",
     "text": [
      "Found 1322 images belonging to 2 classes.\n"
     ]
    }
   ],
   "source": [
    "train_set = train_data_gen.flow_from_directory('dataset/train', \n",
    "                                                    target_size=(128,128), \n",
    "                                                    batch_size=32, \n",
    "                                                    class_mode='binary')"
   ]
  },
  {
   "cell_type": "code",
   "execution_count": 26,
   "metadata": {
    "colab": {
     "base_uri": "https://localhost:8080/",
     "height": 34
    },
    "colab_type": "code",
    "id": "4lMgJNdVtydX",
    "outputId": "36d5d739-986f-4160-c700-82e8b37682ee"
   },
   "outputs": [
    {
     "name": "stdout",
     "output_type": "stream",
     "text": [
      "Found 64 images belonging to 2 classes.\n"
     ]
    }
   ],
   "source": [
    "test_set = test_data_gen.flow_from_directory('dataset/test', \n",
    "                                                target_size=(128,128), \n",
    "                                                batch_size=32, \n",
    "                                                class_mode='binary')"
   ]
  },
  {
   "cell_type": "markdown",
   "metadata": {},
   "source": [
    "<p style = \"font-size:40px;color:#C40311;font-weight:600\">Training.......</p>"
   ]
  },
  {
   "cell_type": "code",
   "execution_count": 13,
   "metadata": {
    "colab": {
     "base_uri": "https://localhost:8080/",
     "height": 527
    },
    "colab_type": "code",
    "id": "3DwJVHzCuAv6",
    "outputId": "052edb4e-3caf-4229-8498-398caff4396a"
   },
   "outputs": [
    {
     "name": "stdout",
     "output_type": "stream",
     "text": [
      "Epoch 1/15\n",
      "42/41 [==============================] - 814s 19s/step - loss: 0.7194 - accuracy: 0.5090 - val_loss: 0.6856 - val_accuracy: 0.7188\n",
      "Epoch 2/15\n",
      "42/41 [==============================] - 13s 317ms/step - loss: 0.5211 - accuracy: 0.7586 - val_loss: 0.1306 - val_accuracy: 0.9844\n",
      "Epoch 3/15\n",
      "42/41 [==============================] - 13s 317ms/step - loss: 0.1918 - accuracy: 0.9325 - val_loss: 0.0865 - val_accuracy: 0.9531\n",
      "Epoch 4/15\n",
      "42/41 [==============================] - 14s 322ms/step - loss: 0.2024 - accuracy: 0.9183 - val_loss: 0.0476 - val_accuracy: 1.0000\n",
      "Epoch 5/15\n",
      "42/41 [==============================] - 13s 314ms/step - loss: 0.1974 - accuracy: 0.9310 - val_loss: 0.2900 - val_accuracy: 0.9062\n",
      "Epoch 6/15\n",
      "42/41 [==============================] - 13s 319ms/step - loss: 0.1611 - accuracy: 0.9460 - val_loss: 0.0216 - val_accuracy: 1.0000\n",
      "Epoch 7/15\n",
      "42/41 [==============================] - 14s 325ms/step - loss: 0.1049 - accuracy: 0.9663 - val_loss: 0.0791 - val_accuracy: 1.0000\n",
      "Epoch 8/15\n",
      "42/41 [==============================] - 13s 316ms/step - loss: 0.1212 - accuracy: 0.9603 - val_loss: 0.1918 - val_accuracy: 0.9688\n",
      "Epoch 9/15\n",
      "42/41 [==============================] - 13s 313ms/step - loss: 0.1097 - accuracy: 0.9573 - val_loss: 0.1881 - val_accuracy: 0.9531\n",
      "Epoch 10/15\n",
      "42/41 [==============================] - 13s 314ms/step - loss: 0.0854 - accuracy: 0.9693 - val_loss: 0.1143 - val_accuracy: 0.8906\n",
      "Epoch 11/15\n",
      "42/41 [==============================] - 13s 316ms/step - loss: 0.0884 - accuracy: 0.9745 - val_loss: 0.0272 - val_accuracy: 0.9844\n",
      "Epoch 12/15\n",
      "42/41 [==============================] - 14s 329ms/step - loss: 0.0775 - accuracy: 0.9745 - val_loss: 0.0303 - val_accuracy: 1.0000\n",
      "Epoch 13/15\n",
      "42/41 [==============================] - 14s 324ms/step - loss: 0.2269 - accuracy: 0.9363 - val_loss: 0.4852 - val_accuracy: 0.8281\n",
      "Epoch 14/15\n",
      "42/41 [==============================] - 13s 317ms/step - loss: 0.1488 - accuracy: 0.9505 - val_loss: 0.0398 - val_accuracy: 0.9844\n",
      "Epoch 15/15\n",
      "42/41 [==============================] - 13s 313ms/step - loss: 0.0595 - accuracy: 0.9783 - val_loss: 0.0500 - val_accuracy: 0.9844\n"
     ]
    }
   ],
   "source": [
    "hist = model.fit_generator(train_set,\n",
    "                    steps_per_epoch=1316/32,\n",
    "                    epochs=15,\n",
    "                    validation_data=test_set\n",
    "                    )"
   ]
  },
  {
   "cell_type": "markdown",
   "metadata": {},
   "source": [
    "<p style = \"color:#000;font-size:20px;font-weight:600;font-family:sans-serif\">Saving the model to a h5 file (so that you wont have to run the model through all this above)</p>"
   ]
  },
  {
   "cell_type": "code",
   "execution_count": 14,
   "metadata": {
    "colab": {},
    "colab_type": "code",
    "id": "y3xEW9XYcDym"
   },
   "outputs": [],
   "source": [
    "model.save('Mask.h5')"
   ]
  },
  {
   "cell_type": "markdown",
   "metadata": {},
   "source": [
    "<hr style = \"border-color:#E66200;background-color:#E66200;border-radius:50px;height:7px\">"
   ]
  },
  {
   "cell_type": "code",
   "execution_count": 33,
   "metadata": {},
   "outputs": [],
   "source": [
    "from tensorflow.keras.models import load_model\n",
    "from keras.preprocessing import image\n",
    "import cv2\n",
    "import numpy as np\n",
    "import matplotlib.pyplot as plt\n",
    "model = load_model('Mask.h5')"
   ]
  },
  {
   "cell_type": "code",
   "execution_count": 34,
   "metadata": {
    "colab": {},
    "colab_type": "code",
    "id": "oRVIjpVmQEBC"
   },
   "outputs": [],
   "source": [
    "haar_cascade_face =cv2.CascadeClassifier(cv2.data.haarcascades + \"haarcascade_frontalface_default.xml\")"
   ]
  },
  {
   "cell_type": "markdown",
   "metadata": {},
   "source": [
    "# Load your image here"
   ]
  },
  {
   "cell_type": "code",
   "execution_count": 73,
   "metadata": {
    "colab": {},
    "colab_type": "code",
    "id": "ttVQAu-gEPJ1"
   },
   "outputs": [],
   "source": [
    "tested_image = image.load_img('testing images/man.jpg',target_size=(128,128))\n",
    "test_image = np.array(tested_image) \n",
    "# Convert RGB to BGR \n",
    "test_image = test_image[:, :, ::-1].copy()"
   ]
  },
  {
   "cell_type": "code",
   "execution_count": 74,
   "metadata": {
    "colab": {},
    "colab_type": "code",
    "id": "-iSNuB_IJBw0"
   },
   "outputs": [],
   "source": [
    "test_image_gray = cv2.cvtColor(test_image, cv2.COLOR_BGR2GRAY)"
   ]
  },
  {
   "cell_type": "code",
   "execution_count": 75,
   "metadata": {
    "colab": {},
    "colab_type": "code",
    "id": "x77uayDIGJD0"
   },
   "outputs": [],
   "source": [
    "faces_rects = haar_cascade_face.detectMultiScale(test_image_gray, scaleFactor = 1.2, minNeighbors = 5);\n",
    "for (x,y,w,h) in faces_rects:\n",
    "     cv2.rectangle(test_image, (x, y), (x+w, y+h), (0, 255, 0),1)"
   ]
  },
  {
   "cell_type": "code",
   "execution_count": 76,
   "metadata": {},
   "outputs": [
    {
     "name": "stdout",
     "output_type": "stream",
     "text": [
      "\u001b[1m\u001b[32mPERSON IS WEARING MASK\u001b[0m\n"
     ]
    }
   ],
   "source": [
    "#used to add color to prediction text\n",
    "import termcolor as tc\n",
    "no_mask = tc.colored('PERSON IS NOT WEARING MASK!!!!', color='red',attrs=['bold'])\n",
    "mask = tc.colored('PERSON IS WEARING MASK', color='green',attrs=['bold'])"
   ]
  },
  {
   "cell_type": "code",
   "execution_count": 77,
   "metadata": {},
   "outputs": [],
   "source": [
    "def convertToRGB(image):\n",
    "    return cv2.cvtColor(image, cv2.COLOR_BGR2RGB)"
   ]
  },
  {
   "cell_type": "markdown",
   "metadata": {},
   "source": [
    "<p style = \"color:#280C37;font-size:40px;font-weight:700;text-align:center;font-family: Arial, Helvetica, sans-serif\">Finally the prediction</p>"
   ]
  },
  {
   "cell_type": "code",
   "execution_count": 78,
   "metadata": {
    "colab": {
     "base_uri": "https://localhost:8080/",
     "height": 285
    },
    "colab_type": "code",
    "id": "3oIU_71Y9xQP",
    "outputId": "2d02f11e-6b4a-40f1-b1e3-83978012da2b"
   },
   "outputs": [
    {
     "name": "stdout",
     "output_type": "stream",
     "text": [
      "\u001b[1m\u001b[32mPERSON IS WEARING MASK\u001b[0m\n"
     ]
    },
    {
     "data": {
      "image/png": "[encoded data removed]",
      "text/plain": [
       "<Figure size 432x288 with 1 Axes>"
      ]
     },
     "metadata": {
      "needs_background": "light"
     },
     "output_type": "display_data"
    }
   ],
   "source": [
    "tested_image = image.img_to_array(tested_image)\n",
    "tested_image = np.expand_dims(tested_image,axis = 0)\n",
    "output = model.predict(tested_image)\n",
    "train_set.class_indices\n",
    "\n",
    "\n",
    "if output[0][0] ==1:\n",
    "  prediction = 'PERSON IS NOT WEARING MASK!!!!'\n",
    "  print(no_mask)\n",
    "  plt.imshow(convertToRGB(test_image))\n",
    "else:\n",
    "  prediction = 'PERSON IS WEARING MASK'\n",
    "  print(mask)\n",
    "  plt.imshow(convertToRGB(test_image))"
   ]
  }
 ],
 "metadata": {
  "accelerator": "GPU",
  "colab": {
   "collapsed_sections": [],
   "name": "mask.ipynb",
   "provenance": [],
   "toc_visible": true
  },
  "kernelspec": {
   "display_name": "Python 3",
   "language": "python",
   "name": "python3"
  },
  "language_info": {
   "codemirror_mode": {
    "name": "ipython",
    "version": 3
   },
   "file_extension": ".py",
   "mimetype": "text/x-python",
   "name": "python",
   "nbconvert_exporter": "python",
   "pygments_lexer": "ipython3",
   "version": "3.6.2"
  }
 },
 "nbformat": 4,
 "nbformat_minor": 4
}
